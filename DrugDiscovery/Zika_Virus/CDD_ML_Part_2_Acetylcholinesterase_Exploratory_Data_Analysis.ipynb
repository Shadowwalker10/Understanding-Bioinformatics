{
 "cells": [
  {
   "cell_type": "markdown",
   "id": "13ad50bf-d934-4ce9-ba8e-195fe1d98195",
   "metadata": {},
   "source": [
    "# Import Required Libraries and Load Bioactivity Data"
   ]
  },
  {
   "cell_type": "code",
   "execution_count": 102,
   "id": "3f4a3200-5d5b-4843-9264-75a92565a37a",
   "metadata": {},
   "outputs": [],
   "source": [
    "import pandas as pd\n",
    "import numpy as np\n",
    "import matplotlib.pyplot as plt\n",
    "import seaborn as sns"
   ]
  },
  {
   "cell_type": "code",
   "execution_count": 103,
   "id": "b7e87f3a-60c1-490a-8e07-d295ea5b5609",
   "metadata": {},
   "outputs": [
    {
     "data": {
      "text/html": [
       "<div>\n",
       "<style scoped>\n",
       "    .dataframe tbody tr th:only-of-type {\n",
       "        vertical-align: middle;\n",
       "    }\n",
       "\n",
       "    .dataframe tbody tr th {\n",
       "        vertical-align: top;\n",
       "    }\n",
       "\n",
       "    .dataframe thead th {\n",
       "        text-align: right;\n",
       "    }\n",
       "</style>\n",
       "<table border=\"1\" class=\"dataframe\">\n",
       "  <thead>\n",
       "    <tr style=\"text-align: right;\">\n",
       "      <th></th>\n",
       "      <th>molecule_chembl_id</th>\n",
       "      <th>canonical_smiles</th>\n",
       "      <th>standard_value</th>\n",
       "      <th>bioactivity_class</th>\n",
       "    </tr>\n",
       "  </thead>\n",
       "  <tbody>\n",
       "    <tr>\n",
       "      <th>0</th>\n",
       "      <td>CHEMBL174698</td>\n",
       "      <td>Cc1cn(C2C=CC(COC(=O)CN3CCNCC3)O2)c(=O)[nH]c1=O</td>\n",
       "      <td>63.6</td>\n",
       "      <td>Active</td>\n",
       "    </tr>\n",
       "    <tr>\n",
       "      <th>1</th>\n",
       "      <td>CHEMBL295054</td>\n",
       "      <td>C[n+]1ccc2c([nH]c3ccccc32)c1-c1ccccc1.Cc1ccc(S...</td>\n",
       "      <td>13000.0</td>\n",
       "      <td>Inactive</td>\n",
       "    </tr>\n",
       "    <tr>\n",
       "      <th>2</th>\n",
       "      <td>CHEMBL21521</td>\n",
       "      <td>CC[C@H](C)[C@H](NC(=O)[C@H](Cc1ccc(O)cc1)NC(=O...</td>\n",
       "      <td>1300.0</td>\n",
       "      <td>Intermediate</td>\n",
       "    </tr>\n",
       "    <tr>\n",
       "      <th>3</th>\n",
       "      <td>CHEMBL111217</td>\n",
       "      <td>CC(/C=C/C(F)=C(/C)c1cc(C(C)(C)C)cc(C(C)(C)C)c1...</td>\n",
       "      <td>63.0</td>\n",
       "      <td>Active</td>\n",
       "    </tr>\n",
       "    <tr>\n",
       "      <th>4</th>\n",
       "      <td>CHEMBL415341</td>\n",
       "      <td>CCCCC(=O)N[C@@H]1CC(=O)NCCCC[C@@H](C(N)=O)NC(=...</td>\n",
       "      <td>9.0</td>\n",
       "      <td>Active</td>\n",
       "    </tr>\n",
       "  </tbody>\n",
       "</table>\n",
       "</div>"
      ],
      "text/plain": [
       "  molecule_chembl_id                                   canonical_smiles  \\\n",
       "0       CHEMBL174698     Cc1cn(C2C=CC(COC(=O)CN3CCNCC3)O2)c(=O)[nH]c1=O   \n",
       "1       CHEMBL295054  C[n+]1ccc2c([nH]c3ccccc32)c1-c1ccccc1.Cc1ccc(S...   \n",
       "2        CHEMBL21521  CC[C@H](C)[C@H](NC(=O)[C@H](Cc1ccc(O)cc1)NC(=O...   \n",
       "3       CHEMBL111217  CC(/C=C/C(F)=C(/C)c1cc(C(C)(C)C)cc(C(C)(C)C)c1...   \n",
       "4       CHEMBL415341  CCCCC(=O)N[C@@H]1CC(=O)NCCCC[C@@H](C(N)=O)NC(=...   \n",
       "\n",
       "   standard_value bioactivity_class  \n",
       "0            63.6            Active  \n",
       "1         13000.0          Inactive  \n",
       "2          1300.0      Intermediate  \n",
       "3            63.0            Active  \n",
       "4             9.0            Active  "
      ]
     },
     "execution_count": 103,
     "metadata": {},
     "output_type": "execute_result"
    }
   ],
   "source": [
    "## Load the data\n",
    "df = pd.read_csv(\"acetylcholinesterase_03_bioactivity_data.csv\")\n",
    "df.head()"
   ]
  },
  {
   "cell_type": "markdown",
   "id": "943c0e7e-87f8-4ea3-8f12-645cd9436c53",
   "metadata": {},
   "source": [
    "# Understanding the Data"
   ]
  },
  {
   "cell_type": "code",
   "execution_count": 104,
   "id": "d63bd6f2-5a8a-4dab-9000-e7b68deaa515",
   "metadata": {},
   "outputs": [
    {
     "name": "stdout",
     "output_type": "stream",
     "text": [
      "['CHEMBL345089', 'CHEMBL2296716', 'CHEMBL2369918', 'CHEMBL4781275', 'CHEMBL1160492', 'CHEMBL109550', 'CHEMBL3975302', 'CHEMBL442023', 'CHEMBL327693', 'CHEMBL4160562', 'CHEMBL3426797', 'CHEMBL421980', 'CHEMBL434396', 'CHEMBL97632', 'CHEMBL87771', 'CHEMBL31283', 'CHEMBL491281', 'CHEMBL4762206', 'CHEMBL85956', 'CHEMBL5289884', 'CHEMBL1222385', 'CHEMBL25619', 'CHEMBL2311078', 'CHEMBL2370965', 'CHEMBL5074906', 'CHEMBL166239', 'CHEMBL328615', 'CHEMBL589204', 'CHEMBL410814', 'CHEMBL1814562', 'CHEMBL1505106', 'CHEMBL161949', 'CHEMBL1910587', 'CHEMBL3142380', 'CHEMBL2115064', 'CHEMBL50556', 'CHEMBL1276090', 'CHEMBL5209476', 'CHEMBL415673', 'CHEMBL317234', 'CHEMBL85331', 'CHEMBL275172', 'CHEMBL342690', 'CHEMBL4470610', 'CHEMBL2331559', 'CHEMBL325218', 'CHEMBL414022', 'CHEMBL4446176', 'CHEMBL5191897', 'CHEMBL1813347']\n"
     ]
    }
   ],
   "source": [
    "## Checking the dataset\n",
    "print(df[\"molecule_chembl_id\"].sample(50).tolist())"
   ]
  },
  {
   "cell_type": "code",
   "execution_count": 105,
   "id": "55f9cbc7-ab80-4bd7-94e8-37295dc45147",
   "metadata": {},
   "outputs": [
    {
     "name": "stdout",
     "output_type": "stream",
     "text": [
      "['Cc1cc(SC2=C(O)OC(CCc3ccc(O)cc3)(C(C)C)CC2=O)c(C(C)(C)C)cc1OS(=O)(=O)N1CCN(C)CC1', 'Cc1cccc(NC(=O)CN2C(=O)N/C(=C\\\\c3cccn3-c3cccc(C(=O)O)c3)C2=O)c1', 'CCNC(=O)c1ccccc1NCC1=NCCN1', 'CC[C@H](C)[C@H](NC(=O)[C@H](CC/N=C(/N)NO)NC(=O)[C@H](CC(=O)O)NC(=O)[C@@H](NC(=O)[C@H](CCN=C(N)N)NC(=O)[C@H](CSCNC(C)=O)NC(=O)CNC(=O)[C@H](Cc1ccccc1)NC(=O)[C@H](CSCNC(C)=O)NC(=O)[C@H](CO)NC(=O)[C@@H](N)CO)[C@@H](C)CC)C(=O)NCC(=O)N[C@@H](C)C(=O)N[C@@H](CCC(N)=O)C(=O)C1SSC[C@@H](C(=O)N[C@@H](CC(N)=O)C(=O)CN[C@@H](CO)C(=O)N[C@@H](Cc2ccccc2)C(=O)N[C@@H](CCCN=C(N)N)C(N)=O)NC(=O)CNC(=O)[C@H](CC(C)C)NC(=O)CNC(=O)[C@H]1N', 'CC(=O)c1cc(NS(=O)(=O)c2ccc(Cl)cc2Cl)ccc1Oc1cnc2ccccc2c1', 'CCCO/C(O)=C1\\\\C(C)=NC2=C(C(=O)CC(c3ccc(OC)cc3)C2)C1c1ccccc1Cl', 'O=C(O)c1cc(Cc2cc(Cl)c(O)c(C(=O)O)c2)cc(Cl)c1O', 'Cc1cc(-c2c(F)c(N)c3c(=O)c(C(=O)O)cn(C4CC4)c3c2F)cc(C)n1', 'O=C(NC(=S)N1CCc2c(OCCCCCOc3ccc(Cl)cc3)cccc21)c1ccccc1', 'CCNC(=O)[C@H]1OC(n2cnc3c(NC4CCC5OC5C4)ncnc32)[C@H](O)[C@@H]1O', 'COc1ccc(C(=O)Nc2ccc(N3CCOCC3)cc2)cc1OC', 'Cc1cc(C#N)cc(C)c1Oc1nc(Nc2ccc(C#N)cc2)cn2ccnc12', 'C[C@H](NCc1ccc(Cl)cc1)C(=O)N[C@@H](Cc1c[nH]c2ccccc12)C(=O)NCCc1ccccc1', 'CC(C)[C@H](NC(=O)CCc1ccccn1)C(=O)N[C@@H](Cc1ccccc1)C(O)[C@H](Cc1ccccc1)NC(=O)[C@H](NC(=O)CCc1ccccn1)C(C)C', 'CC(C)[C@H](NC(=O)N(C)CCc1ccccn1)C(=O)N[C@@H](Cc1ccccc1)[C@@H](O)[C@@H](O)[C@H](Cc1ccccc1)NC(=O)[C@H](NC(=O)N(C)CCc1ccccn1)C(C)C', 'CC1(C)Oc2ccc(C#N)cc2[C@@H](n2oc3cc(Cl)ccc3c2=O)[C@@H]1O', 'O/N=C/c1cc(Cl)ccc1OCc1cccc2ccccc12', 'Nc1nc(N/N=C/c2ccccc2)nc2c1ncn2C1O[C@H](CO)[C@@H](O)[C@H]1O', 'Cc1ccc(NC(=O)c2nccnc2C(=O)Nc2ccc(F)cc2)c(-c2cc(C)n[nH]2)c1', 'CCCCNC(=O)OCC1CN(C(=O)c2cc(OC)c(OC)c(OC)c2)CCN1C(=O)c1cc(OC)c(OC)c(OC)c1', 'CCC(Cc1ccc(OC)c(C(=O)NCc2ccc(OC)cc2)c1)C(=O)O', 'CC1CCC2C(CCCCCCCC3(CC4C(=O)OC5OC6(C)CCC7C(C)CCC4C57OO6)C(=O)OC4OC5(C)CCC6C(C)CCC3C46OO5)C(=O)OC3OC4(C)CCC1C32OO4', 'CCCCC[C@H](O)/C=C/[C@@H]1[C@H]2C/C(=C/CCCC(=O)O)O[C@H]2C[C@H]1O', 'Cl.O=C1CN2Cc3sccc3N=C2N1', 'CCCCCCCCC(=O)N(C)Cc1ccc(O)c(OC)c1', 'C[C@@H]1C[C@H](Nc2ccc(F)cc2)c2cc(F)ccc2N1C(=O)c1ccccc1', 'Cc1cn(-c2cc3[nH]c(-c4ccncc4)nc3cc2C)c(C)n1', 'O=C(Nc1ccc(C(=O)c2ccc(Cl)cc2)c(Cl)c1)c1cc([N+](=O)[O-])ccc1O', 'N=C(N)SCCc1c[nH]cn1', 'CCC(Cc1ccc(OC)c(C(=O)NCc2cccc(OC)c2)c1)C(=O)O', 'C[C@H](NC(=O)CCc1ccc(Cl)cc1)C(=O)N[C@@H](Cc1c[nH]c2ccccc12)C(=O)NCCc1ccccc1', 'CCc1nn(C2CCCC2)c2c1CCN(c1cccc(OC)c1)C2=O', 'C=C(C)[C@@H]1CC[C@]2(C(=O)N[C@H](C(=O)OC)C(C)C)CC[C@@]3(C)C(CC[C@@H]4[C@@]5(C)CCC(=O)C(C)(C)C5CC[C@]43C)C12', 'O=C1c2cccc(N3CCN(Cc4cccn4-c4nccs4)CC3)c2C(=O)N1Cc1ccc(Cl)cc1', 'C[C@@H](N)Cc1c2c(c(Br)c3c1OCC3)OCC2.Cl', 'C[C@@H]1CC[C@H]2C(CCC(=O)c3ccccc3)C(=O)O[C@@H]3O[C@]4(C)CC[C@@H]1C32OO4', 'CC1=CC(C)(C)Nc2ccc3c(c21)/C(=C/c1ccccc1)Oc1ccc(F)cc1-3', 'CCOC(=O)C12CC1(C1CCCC1)c1cc(Cl)ccc1NC2=O', 'C=CCC1Oc2cccc(O)c2-c2ccc3c(c21)C(C)=CC(C)(C)N3', 'C1COOC2(OOC1)C1CC3CC(C1)CC2C3', 'OC[C@H]1[C@H](CO)S[C@@H]1n1cnc2c(O)ncnc21', 'CCCOc1c(/C(C)=C\\\\C=C\\\\C(C)=C\\\\C(=O)O)cc(C(F)(F)C(F)(F)F)cc1C(C)C', 'CC(C)CCn1c(Cn2c(=O)n(C(C)C)c3ccccc32)nc2cc(C(=O)O)ccc21', 'O=C(c1cc(C2CC2)nc2ccc(Br)cc12)N1N=C(C(F)F)CC1(O)C(F)F', 'CC(C)[C@H](NC(=O)/C=C/c1cccnc1)C(=O)N[C@@H](Cc1ccccc1)C(O)[C@H](Cc1ccccc1)NC(=O)[C@H](NC(=O)/C=C/c1cccnc1)C(C)C', 'Cc1nnc(C(C)C)n1[C@@H]1C[C@H]2CC[C@@H](C1)N2CC[C@H](NC(=O)C1CCC(F)(F)CC1)c1ccccc1', 'CS(=O)(=O)Nc1c(O)ccc2c1CCCC2C1=NCCN1', 'C[C@@H]1CCC[C@@H]2C[C@@H](NC(=O)c3cc(I)ccc3O)CCN21', 'CSCC[C@H](NC(=O)[C@@H](CC(C)C)N1CCC2(CCCN2C(=O)[C@H](Cc2ccccc2)NC(=O)[C@H](Cc2ccccc2)NC(=O)CCCN)C1=O)C(N)=O', 'CCC(C)CNC1=NS(=O)(=O)c2sc(Cl)cc2N1']\n"
     ]
    }
   ],
   "source": [
    "print(df[\"canonical_smiles\"].sample(50).tolist())"
   ]
  },
  {
   "cell_type": "markdown",
   "id": "3dc83b7c-1fcb-40b1-8770-6cf049d1298d",
   "metadata": {},
   "source": [
    "**We can see some smiles with . in them**"
   ]
  },
  {
   "cell_type": "code",
   "execution_count": 106,
   "id": "4b6627d8-7354-4740-850d-11f299aecf2c",
   "metadata": {},
   "outputs": [
    {
     "name": "stdout",
     "output_type": "stream",
     "text": [
      "Total Number of canonical smiles with . are 293\n"
     ]
    }
   ],
   "source": [
    "print(\"Total Number of canonical smiles with . are\",len([smile for smile in df[\"canonical_smiles\"].values if \".\" in smile]))"
   ]
  },
  {
   "cell_type": "code",
   "execution_count": 107,
   "id": "c2f4ccde-f4fe-4c1d-bb2b-5eb79ddcdd93",
   "metadata": {},
   "outputs": [
    {
     "data": {
      "text/plain": [
       "molecule_chembl_id     object\n",
       "canonical_smiles       object\n",
       "standard_value        float64\n",
       "bioactivity_class      object\n",
       "dtype: object"
      ]
     },
     "execution_count": 107,
     "metadata": {},
     "output_type": "execute_result"
    }
   ],
   "source": [
    "df.dtypes"
   ]
  },
  {
   "cell_type": "markdown",
   "id": "e9f5eaf5-3d4c-4121-9a38-c9002a27a0a5",
   "metadata": {},
   "source": [
    "## Handling the Data in Canonical Smiles"
   ]
  },
  {
   "cell_type": "code",
   "execution_count": 108,
   "id": "3ee7e269-34c8-4baa-96f5-51f81f779936",
   "metadata": {},
   "outputs": [
    {
     "name": "stdout",
     "output_type": "stream",
     "text": [
      "Total Number of canonical smiles with . are 0\n"
     ]
    }
   ],
   "source": [
    "## Separating the smiles based on . and taking the smile with maximum length\n",
    "df[\"canonical_smiles\"] = df[\"canonical_smiles\"].apply(lambda x: max(x.split(\".\"), key = len))\n",
    "print(\"Total Number of canonical smiles with . are\",len([smile for smile in df[\"canonical_smiles\"].values if \".\" in smile]))\n",
    "    "
   ]
  },
  {
   "cell_type": "code",
   "execution_count": 109,
   "id": "3bc55c0a-e043-4e86-b2aa-9650a8d97082",
   "metadata": {},
   "outputs": [
    {
     "data": {
      "text/html": [
       "<div>\n",
       "<style scoped>\n",
       "    .dataframe tbody tr th:only-of-type {\n",
       "        vertical-align: middle;\n",
       "    }\n",
       "\n",
       "    .dataframe tbody tr th {\n",
       "        vertical-align: top;\n",
       "    }\n",
       "\n",
       "    .dataframe thead th {\n",
       "        text-align: right;\n",
       "    }\n",
       "</style>\n",
       "<table border=\"1\" class=\"dataframe\">\n",
       "  <thead>\n",
       "    <tr style=\"text-align: right;\">\n",
       "      <th></th>\n",
       "      <th>molecule_chembl_id</th>\n",
       "      <th>canonical_smiles</th>\n",
       "      <th>standard_value</th>\n",
       "      <th>bioactivity_class</th>\n",
       "    </tr>\n",
       "  </thead>\n",
       "  <tbody>\n",
       "    <tr>\n",
       "      <th>0</th>\n",
       "      <td>CHEMBL174698</td>\n",
       "      <td>Cc1cn(C2C=CC(COC(=O)CN3CCNCC3)O2)c(=O)[nH]c1=O</td>\n",
       "      <td>63.6</td>\n",
       "      <td>Active</td>\n",
       "    </tr>\n",
       "    <tr>\n",
       "      <th>1</th>\n",
       "      <td>CHEMBL295054</td>\n",
       "      <td>C[n+]1ccc2c([nH]c3ccccc32)c1-c1ccccc1</td>\n",
       "      <td>13000.0</td>\n",
       "      <td>Inactive</td>\n",
       "    </tr>\n",
       "    <tr>\n",
       "      <th>2</th>\n",
       "      <td>CHEMBL21521</td>\n",
       "      <td>CC[C@H](C)[C@H](NC(=O)[C@H](Cc1ccc(O)cc1)NC(=O...</td>\n",
       "      <td>1300.0</td>\n",
       "      <td>Intermediate</td>\n",
       "    </tr>\n",
       "    <tr>\n",
       "      <th>3</th>\n",
       "      <td>CHEMBL111217</td>\n",
       "      <td>CC(/C=C/C(F)=C(/C)c1cc(C(C)(C)C)cc(C(C)(C)C)c1...</td>\n",
       "      <td>63.0</td>\n",
       "      <td>Active</td>\n",
       "    </tr>\n",
       "    <tr>\n",
       "      <th>4</th>\n",
       "      <td>CHEMBL415341</td>\n",
       "      <td>CCCCC(=O)N[C@@H]1CC(=O)NCCCC[C@@H](C(N)=O)NC(=...</td>\n",
       "      <td>9.0</td>\n",
       "      <td>Active</td>\n",
       "    </tr>\n",
       "  </tbody>\n",
       "</table>\n",
       "</div>"
      ],
      "text/plain": [
       "  molecule_chembl_id                                   canonical_smiles  \\\n",
       "0       CHEMBL174698     Cc1cn(C2C=CC(COC(=O)CN3CCNCC3)O2)c(=O)[nH]c1=O   \n",
       "1       CHEMBL295054              C[n+]1ccc2c([nH]c3ccccc32)c1-c1ccccc1   \n",
       "2        CHEMBL21521  CC[C@H](C)[C@H](NC(=O)[C@H](Cc1ccc(O)cc1)NC(=O...   \n",
       "3       CHEMBL111217  CC(/C=C/C(F)=C(/C)c1cc(C(C)(C)C)cc(C(C)(C)C)c1...   \n",
       "4       CHEMBL415341  CCCCC(=O)N[C@@H]1CC(=O)NCCCC[C@@H](C(N)=O)NC(=...   \n",
       "\n",
       "   standard_value bioactivity_class  \n",
       "0            63.6            Active  \n",
       "1         13000.0          Inactive  \n",
       "2          1300.0      Intermediate  \n",
       "3            63.0            Active  \n",
       "4             9.0            Active  "
      ]
     },
     "execution_count": 109,
     "metadata": {},
     "output_type": "execute_result"
    }
   ],
   "source": [
    "df.head()"
   ]
  },
  {
   "cell_type": "markdown",
   "id": "fdbbeb74-e7f7-41d4-9811-78c9daef2a6f",
   "metadata": {},
   "source": [
    "# Feature Engineering"
   ]
  },
  {
   "cell_type": "markdown",
   "id": "29e4b7be-bf63-4673-b449-9e3aedf0c1fb",
   "metadata": {},
   "source": [
    "## Calculating Lipinski Descriptors\n",
    "\n",
    "The Lipinski rule of five, also known as Pfizer's rule of five or simply the rule of five (RO5), is a rule of thumb used in drug discovery to evaluate druglikeness or determine if a chemical compound with a certain pharmacological or biological activity has chemical properties and physical properties that would likely make it an orally active drug in humans.\n",
    "\n",
    "The rule was formulated by Christopher A. Lipinski in 1997, based on the observation that most orally administered drugs are relatively small and moderately lipophilic molecules. Lipinski proposed that poor absorption or permeation is more likely when there are:\n",
    "\n",
    "More than 5 hydrogen bond donors (the total number of nitrogen–hydrogen and oxygen–hydrogen bonds)\n",
    "More than 10 hydrogen bond acceptors (all nitrogen or oxygen atoms)\n",
    "A molecular mass greater than 500 daltons\n",
    "A calculated octanol-water partition coefficient (Clog P) that does exceed 5\n",
    "So, a drug must have the following properties:\n",
    "\n",
    "* Hydrogen Bond Donors < 5\n",
    "* Hydrogen Bond Acceptors < 10\n",
    "* Molecular Mass < 500 daltons\n",
    "* Calculated Octanol-water partition Coefficient (Clog P) < 5"
   ]
  },
  {
   "cell_type": "markdown",
   "id": "763fd39a-ef2c-43b4-b9a3-fb2da35a81f1",
   "metadata": {},
   "source": [
    "### Import Required Libraries"
   ]
  },
  {
   "cell_type": "code",
   "execution_count": 110,
   "id": "3cb0d761-c609-4b0a-8229-1dde69d31fcf",
   "metadata": {},
   "outputs": [],
   "source": [
    "from rdkit import Chem\n",
    "from rdkit.Chem import Descriptors, Lipinski"
   ]
  },
  {
   "cell_type": "code",
   "execution_count": 111,
   "id": "0db0cf3a-134e-4388-be7f-fcc48efb71c8",
   "metadata": {},
   "outputs": [
    {
     "data": {
      "text/html": [
       "<div>\n",
       "<style scoped>\n",
       "    .dataframe tbody tr th:only-of-type {\n",
       "        vertical-align: middle;\n",
       "    }\n",
       "\n",
       "    .dataframe tbody tr th {\n",
       "        vertical-align: top;\n",
       "    }\n",
       "\n",
       "    .dataframe thead th {\n",
       "        text-align: right;\n",
       "    }\n",
       "</style>\n",
       "<table border=\"1\" class=\"dataframe\">\n",
       "  <thead>\n",
       "    <tr style=\"text-align: right;\">\n",
       "      <th></th>\n",
       "      <th>Mol_Wt</th>\n",
       "      <th>LogP</th>\n",
       "      <th>H-Bond Acceptor</th>\n",
       "      <th>H-Bond Donor</th>\n",
       "    </tr>\n",
       "  </thead>\n",
       "  <tbody>\n",
       "    <tr>\n",
       "      <th>0</th>\n",
       "      <td>350.375</td>\n",
       "      <td>-1.25298</td>\n",
       "      <td>8</td>\n",
       "      <td>2</td>\n",
       "    </tr>\n",
       "    <tr>\n",
       "      <th>1</th>\n",
       "      <td>259.332</td>\n",
       "      <td>3.81260</td>\n",
       "      <td>0</td>\n",
       "      <td>1</td>\n",
       "    </tr>\n",
       "    <tr>\n",
       "      <th>2</th>\n",
       "      <td>750.982</td>\n",
       "      <td>4.93040</td>\n",
       "      <td>8</td>\n",
       "      <td>8</td>\n",
       "    </tr>\n",
       "    <tr>\n",
       "      <th>3</th>\n",
       "      <td>438.530</td>\n",
       "      <td>7.21310</td>\n",
       "      <td>2</td>\n",
       "      <td>1</td>\n",
       "    </tr>\n",
       "    <tr>\n",
       "      <th>4</th>\n",
       "      <td>1023.637</td>\n",
       "      <td>1.49370</td>\n",
       "      <td>9</td>\n",
       "      <td>11</td>\n",
       "    </tr>\n",
       "  </tbody>\n",
       "</table>\n",
       "</div>"
      ],
      "text/plain": [
       "     Mol_Wt     LogP  H-Bond Acceptor  H-Bond Donor\n",
       "0   350.375 -1.25298                8             2\n",
       "1   259.332  3.81260                0             1\n",
       "2   750.982  4.93040                8             8\n",
       "3   438.530  7.21310                2             1\n",
       "4  1023.637  1.49370                9            11"
      ]
     },
     "execution_count": 111,
     "metadata": {},
     "output_type": "execute_result"
    }
   ],
   "source": [
    "## Define a function to extract properties using canonical smiles\n",
    "## LogP is the solubility of molecules\n",
    "\n",
    "def lipinski(smiles):\n",
    "    moldata = []\n",
    "    for smile in smiles:\n",
    "        moldata.append(Chem.MolFromSmiles(smile))\n",
    "\n",
    "    desc_molwt = [Descriptors.MolWt(mol) for mol in moldata]\n",
    "    desc_logP = [Descriptors.MolLogP(mol) for mol in moldata]\n",
    "    desc_hbondaccept = [Descriptors.NumHAcceptors(mol) for mol in moldata]\n",
    "    desc_hbonddonor = [Descriptors.NumHDonors(mol) for mol in moldata]\n",
    "\n",
    "    features = {\n",
    "        \"Mol_Wt\": desc_molwt,\n",
    "        \"LogP\": desc_logP,\n",
    "        \"H-Bond Acceptor\": desc_hbondaccept,\n",
    "        \"H-Bond Donor\": desc_hbonddonor\n",
    "    }\n",
    "    return pd.DataFrame(features)\n",
    "\n",
    "lipinski_features = lipinski(df[\"canonical_smiles\"])\n",
    "lipinski_features.head()"
   ]
  },
  {
   "cell_type": "markdown",
   "id": "def8f2bf-ec4c-44b1-bbef-b739a1771696",
   "metadata": {},
   "source": [
    "## Merging the DataFrames"
   ]
  },
  {
   "cell_type": "code",
   "execution_count": 112,
   "id": "ada46124-7e2f-45ae-a217-61fd8386bb38",
   "metadata": {},
   "outputs": [
    {
     "data": {
      "text/html": [
       "<div>\n",
       "<style scoped>\n",
       "    .dataframe tbody tr th:only-of-type {\n",
       "        vertical-align: middle;\n",
       "    }\n",
       "\n",
       "    .dataframe tbody tr th {\n",
       "        vertical-align: top;\n",
       "    }\n",
       "\n",
       "    .dataframe thead th {\n",
       "        text-align: right;\n",
       "    }\n",
       "</style>\n",
       "<table border=\"1\" class=\"dataframe\">\n",
       "  <thead>\n",
       "    <tr style=\"text-align: right;\">\n",
       "      <th></th>\n",
       "      <th>molecule_chembl_id</th>\n",
       "      <th>canonical_smiles</th>\n",
       "      <th>standard_value</th>\n",
       "      <th>bioactivity_class</th>\n",
       "      <th>Mol_Wt</th>\n",
       "      <th>LogP</th>\n",
       "      <th>H-Bond Acceptor</th>\n",
       "      <th>H-Bond Donor</th>\n",
       "    </tr>\n",
       "  </thead>\n",
       "  <tbody>\n",
       "    <tr>\n",
       "      <th>0</th>\n",
       "      <td>CHEMBL174698</td>\n",
       "      <td>Cc1cn(C2C=CC(COC(=O)CN3CCNCC3)O2)c(=O)[nH]c1=O</td>\n",
       "      <td>63.6</td>\n",
       "      <td>Active</td>\n",
       "      <td>350.375</td>\n",
       "      <td>-1.25298</td>\n",
       "      <td>8</td>\n",
       "      <td>2</td>\n",
       "    </tr>\n",
       "    <tr>\n",
       "      <th>1</th>\n",
       "      <td>CHEMBL295054</td>\n",
       "      <td>C[n+]1ccc2c([nH]c3ccccc32)c1-c1ccccc1</td>\n",
       "      <td>13000.0</td>\n",
       "      <td>Inactive</td>\n",
       "      <td>259.332</td>\n",
       "      <td>3.81260</td>\n",
       "      <td>0</td>\n",
       "      <td>1</td>\n",
       "    </tr>\n",
       "    <tr>\n",
       "      <th>2</th>\n",
       "      <td>CHEMBL21521</td>\n",
       "      <td>CC[C@H](C)[C@H](NC(=O)[C@H](Cc1ccc(O)cc1)NC(=O...</td>\n",
       "      <td>1300.0</td>\n",
       "      <td>Intermediate</td>\n",
       "      <td>750.982</td>\n",
       "      <td>4.93040</td>\n",
       "      <td>8</td>\n",
       "      <td>8</td>\n",
       "    </tr>\n",
       "    <tr>\n",
       "      <th>3</th>\n",
       "      <td>CHEMBL111217</td>\n",
       "      <td>CC(/C=C/C(F)=C(/C)c1cc(C(C)(C)C)cc(C(C)(C)C)c1...</td>\n",
       "      <td>63.0</td>\n",
       "      <td>Active</td>\n",
       "      <td>438.530</td>\n",
       "      <td>7.21310</td>\n",
       "      <td>2</td>\n",
       "      <td>1</td>\n",
       "    </tr>\n",
       "    <tr>\n",
       "      <th>4</th>\n",
       "      <td>CHEMBL415341</td>\n",
       "      <td>CCCCC(=O)N[C@@H]1CC(=O)NCCCC[C@@H](C(N)=O)NC(=...</td>\n",
       "      <td>9.0</td>\n",
       "      <td>Active</td>\n",
       "      <td>1023.637</td>\n",
       "      <td>1.49370</td>\n",
       "      <td>9</td>\n",
       "      <td>11</td>\n",
       "    </tr>\n",
       "  </tbody>\n",
       "</table>\n",
       "</div>"
      ],
      "text/plain": [
       "  molecule_chembl_id                                   canonical_smiles  \\\n",
       "0       CHEMBL174698     Cc1cn(C2C=CC(COC(=O)CN3CCNCC3)O2)c(=O)[nH]c1=O   \n",
       "1       CHEMBL295054              C[n+]1ccc2c([nH]c3ccccc32)c1-c1ccccc1   \n",
       "2        CHEMBL21521  CC[C@H](C)[C@H](NC(=O)[C@H](Cc1ccc(O)cc1)NC(=O...   \n",
       "3       CHEMBL111217  CC(/C=C/C(F)=C(/C)c1cc(C(C)(C)C)cc(C(C)(C)C)c1...   \n",
       "4       CHEMBL415341  CCCCC(=O)N[C@@H]1CC(=O)NCCCC[C@@H](C(N)=O)NC(=...   \n",
       "\n",
       "   standard_value bioactivity_class    Mol_Wt     LogP  H-Bond Acceptor  \\\n",
       "0            63.6            Active   350.375 -1.25298                8   \n",
       "1         13000.0          Inactive   259.332  3.81260                0   \n",
       "2          1300.0      Intermediate   750.982  4.93040                8   \n",
       "3            63.0            Active   438.530  7.21310                2   \n",
       "4             9.0            Active  1023.637  1.49370                9   \n",
       "\n",
       "   H-Bond Donor  \n",
       "0             2  \n",
       "1             1  \n",
       "2             8  \n",
       "3             1  \n",
       "4            11  "
      ]
     },
     "execution_count": 112,
     "metadata": {},
     "output_type": "execute_result"
    }
   ],
   "source": [
    "df_merged = pd.concat([df, lipinski_features], axis = 1)\n",
    "df_merged.head()"
   ]
  },
  {
   "cell_type": "markdown",
   "id": "a72ede8d-7c02-4e6e-8f72-a1bcbd641642",
   "metadata": {},
   "source": [
    "## Data Transformation"
   ]
  },
  {
   "cell_type": "markdown",
   "id": "48ec77c5-3a27-4d30-9f8c-335ce2793f91",
   "metadata": {},
   "source": [
    "### Normalizing Standard Value to its Logarithmic Value"
   ]
  },
  {
   "cell_type": "code",
   "execution_count": 113,
   "id": "19c68608-3fdb-48a4-9b58-955475073547",
   "metadata": {},
   "outputs": [
    {
     "name": "stderr",
     "output_type": "stream",
     "text": [
      "C:\\Users\\ACER\\AppData\\Local\\Temp\\ipykernel_11736\\221876553.py:6: RuntimeWarning: divide by zero encountered in log10\n",
      "  std_molar = [-np.log10(x * 10**-9) for x in normalized_std]\n"
     ]
    },
    {
     "data": {
      "text/html": [
       "<div>\n",
       "<style scoped>\n",
       "    .dataframe tbody tr th:only-of-type {\n",
       "        vertical-align: middle;\n",
       "    }\n",
       "\n",
       "    .dataframe tbody tr th {\n",
       "        vertical-align: top;\n",
       "    }\n",
       "\n",
       "    .dataframe thead th {\n",
       "        text-align: right;\n",
       "    }\n",
       "</style>\n",
       "<table border=\"1\" class=\"dataframe\">\n",
       "  <thead>\n",
       "    <tr style=\"text-align: right;\">\n",
       "      <th></th>\n",
       "      <th>molecule_chembl_id</th>\n",
       "      <th>canonical_smiles</th>\n",
       "      <th>bioactivity_class</th>\n",
       "      <th>Mol_Wt</th>\n",
       "      <th>LogP</th>\n",
       "      <th>H-Bond Acceptor</th>\n",
       "      <th>H-Bond Donor</th>\n",
       "      <th>pEC50</th>\n",
       "    </tr>\n",
       "  </thead>\n",
       "  <tbody>\n",
       "    <tr>\n",
       "      <th>0</th>\n",
       "      <td>CHEMBL174698</td>\n",
       "      <td>Cc1cn(C2C=CC(COC(=O)CN3CCNCC3)O2)c(=O)[nH]c1=O</td>\n",
       "      <td>Active</td>\n",
       "      <td>350.375</td>\n",
       "      <td>-1.25298</td>\n",
       "      <td>8</td>\n",
       "      <td>2</td>\n",
       "      <td>7.196543</td>\n",
       "    </tr>\n",
       "    <tr>\n",
       "      <th>1</th>\n",
       "      <td>CHEMBL295054</td>\n",
       "      <td>C[n+]1ccc2c([nH]c3ccccc32)c1-c1ccccc1</td>\n",
       "      <td>Inactive</td>\n",
       "      <td>259.332</td>\n",
       "      <td>3.81260</td>\n",
       "      <td>0</td>\n",
       "      <td>1</td>\n",
       "      <td>4.886057</td>\n",
       "    </tr>\n",
       "    <tr>\n",
       "      <th>2</th>\n",
       "      <td>CHEMBL21521</td>\n",
       "      <td>CC[C@H](C)[C@H](NC(=O)[C@H](Cc1ccc(O)cc1)NC(=O...</td>\n",
       "      <td>Intermediate</td>\n",
       "      <td>750.982</td>\n",
       "      <td>4.93040</td>\n",
       "      <td>8</td>\n",
       "      <td>8</td>\n",
       "      <td>5.886057</td>\n",
       "    </tr>\n",
       "    <tr>\n",
       "      <th>3</th>\n",
       "      <td>CHEMBL111217</td>\n",
       "      <td>CC(/C=C/C(F)=C(/C)c1cc(C(C)(C)C)cc(C(C)(C)C)c1...</td>\n",
       "      <td>Active</td>\n",
       "      <td>438.530</td>\n",
       "      <td>7.21310</td>\n",
       "      <td>2</td>\n",
       "      <td>1</td>\n",
       "      <td>7.200659</td>\n",
       "    </tr>\n",
       "    <tr>\n",
       "      <th>4</th>\n",
       "      <td>CHEMBL415341</td>\n",
       "      <td>CCCCC(=O)N[C@@H]1CC(=O)NCCCC[C@@H](C(N)=O)NC(=...</td>\n",
       "      <td>Active</td>\n",
       "      <td>1023.637</td>\n",
       "      <td>1.49370</td>\n",
       "      <td>9</td>\n",
       "      <td>11</td>\n",
       "      <td>8.045757</td>\n",
       "    </tr>\n",
       "  </tbody>\n",
       "</table>\n",
       "</div>"
      ],
      "text/plain": [
       "  molecule_chembl_id                                   canonical_smiles  \\\n",
       "0       CHEMBL174698     Cc1cn(C2C=CC(COC(=O)CN3CCNCC3)O2)c(=O)[nH]c1=O   \n",
       "1       CHEMBL295054              C[n+]1ccc2c([nH]c3ccccc32)c1-c1ccccc1   \n",
       "2        CHEMBL21521  CC[C@H](C)[C@H](NC(=O)[C@H](Cc1ccc(O)cc1)NC(=O...   \n",
       "3       CHEMBL111217  CC(/C=C/C(F)=C(/C)c1cc(C(C)(C)C)cc(C(C)(C)C)c1...   \n",
       "4       CHEMBL415341  CCCCC(=O)N[C@@H]1CC(=O)NCCCC[C@@H](C(N)=O)NC(=...   \n",
       "\n",
       "  bioactivity_class    Mol_Wt     LogP  H-Bond Acceptor  H-Bond Donor  \\\n",
       "0            Active   350.375 -1.25298                8             2   \n",
       "1          Inactive   259.332  3.81260                0             1   \n",
       "2      Intermediate   750.982  4.93040                8             8   \n",
       "3            Active   438.530  7.21310                2             1   \n",
       "4            Active  1023.637  1.49370                9            11   \n",
       "\n",
       "      pEC50  \n",
       "0  7.196543  \n",
       "1  4.886057  \n",
       "2  5.886057  \n",
       "3  7.200659  \n",
       "4  8.045757  "
      ]
     },
     "execution_count": 113,
     "metadata": {},
     "output_type": "execute_result"
    }
   ],
   "source": [
    "## Conversion from nano-molar to molar and apply -log10\n",
    "## Values cannot exceed 100,000,000. If exceeded, they will be fixed at 100,000,000\n",
    "\n",
    "normalized_std = [x if x<=100000000 else 100000000 for x in df[\"standard_value\"].values]\n",
    "##Apply -log10\n",
    "std_molar = [-np.log10(x * 10**-9) for x in normalized_std]\n",
    "df_final = df_merged.copy(deep = True).drop([\"standard_value\"], axis = 1)\n",
    "df_final[\"pEC50\"] = std_molar\n",
    "\n",
    "df_final.head()\n"
   ]
  },
  {
   "cell_type": "code",
   "execution_count": 114,
   "id": "6657e1f1-a468-4bd2-acbb-22f19d38da92",
   "metadata": {},
   "outputs": [],
   "source": [
    "## Saving the dataframe\n",
    "df_final.to_csv('acetylcholinesterase_04_bioactivity_data_3class_pEC50.csv')"
   ]
  },
  {
   "cell_type": "markdown",
   "id": "fc2ad099-7165-4093-8e27-973f872e6802",
   "metadata": {},
   "source": [
    "### Removing Intermediate Class"
   ]
  },
  {
   "cell_type": "code",
   "execution_count": 115,
   "id": "dccc61ac-91fe-47da-bc6d-442253404cbb",
   "metadata": {},
   "outputs": [
    {
     "data": {
      "text/plain": [
       "(3318, 8)"
      ]
     },
     "execution_count": 115,
     "metadata": {},
     "output_type": "execute_result"
    }
   ],
   "source": [
    "df_filtered_bioactivity = df_final[df_final[\"bioactivity_class\"]!=\"Intermediate\"]\n",
    "df_filtered_bioactivity.shape"
   ]
  },
  {
   "cell_type": "code",
   "execution_count": 116,
   "id": "f03fe7a7-99cf-4f43-b5eb-6749e9fc221d",
   "metadata": {},
   "outputs": [],
   "source": [
    "df_filtered_bioactivity.to_csv(\"acetylcholinesterase_no_intermediate_bioactivity_data_2class_pEC50.csv\")"
   ]
  },
  {
   "cell_type": "markdown",
   "id": "26350d78-d8d8-433e-9bfe-abc2b3021b6c",
   "metadata": {},
   "source": [
    "# Exploratory Data Analysis"
   ]
  },
  {
   "cell_type": "markdown",
   "id": "b3651f93-8e5d-4c4d-9296-3444ac82e70f",
   "metadata": {},
   "source": [
    "## checking for any redundant value"
   ]
  },
  {
   "cell_type": "code",
   "execution_count": 117,
   "id": "eb2e6036-cee9-4993-b911-df80a6cfd06e",
   "metadata": {},
   "outputs": [
    {
     "data": {
      "text/plain": [
       "molecule_chembl_id    0\n",
       "canonical_smiles      0\n",
       "bioactivity_class     0\n",
       "Mol_Wt                0\n",
       "LogP                  0\n",
       "H-Bond Acceptor       0\n",
       "H-Bond Donor          0\n",
       "pEC50                 0\n",
       "dtype: int64"
      ]
     },
     "execution_count": 117,
     "metadata": {},
     "output_type": "execute_result"
    }
   ],
   "source": [
    "## Null Values\n",
    "df_filtered_bioactivity.isnull().sum()"
   ]
  },
  {
   "cell_type": "code",
   "execution_count": 118,
   "id": "6bb1ef36-69ae-4c31-9977-7f4ed28d5585",
   "metadata": {},
   "outputs": [
    {
     "name": "stdout",
     "output_type": "stream",
     "text": [
      "Mol_Wt             False\n",
      "LogP               False\n",
      "H-Bond Acceptor    False\n",
      "H-Bond Donor       False\n",
      "pEC50               True\n",
      "dtype: bool\n"
     ]
    }
   ],
   "source": [
    "## Checking for infinities\n",
    "infinity_mask = np.isinf(df_filtered_bioactivity.select_dtypes(\"number\"))\n",
    "print(infinity_mask.any())\n",
    "\n",
    "## Removing rows with infinity\n",
    "rows_with_inf = infinity_mask.any(axis = 1)\n",
    "indices_inf = rows_with_inf[rows_with_inf].index.tolist()\n",
    "df_filtered_bioactivity = df_filtered_bioactivity.drop(index = indices_inf, axis = 0).reset_index(drop = True)"
   ]
  },
  {
   "cell_type": "markdown",
   "id": "fbb832e4-ee5b-4aff-9565-20ad5127b5ec",
   "metadata": {},
   "source": [
    "**pEC50 column has infinity values**"
   ]
  },
  {
   "cell_type": "code",
   "execution_count": 119,
   "id": "7b132364-f1ed-4ca5-924d-04e5a08162fe",
   "metadata": {},
   "outputs": [
    {
     "data": {
      "image/png": "[encoded data removed]",
      "text/plain": [
       "<Figure size 3000x500 with 5 Axes>"
      ]
     },
     "metadata": {},
     "output_type": "display_data"
    }
   ],
   "source": [
    "## Understanding Data Distribution\n",
    "numerical_data = df_filtered_bioactivity.select_dtypes(\"number\")\n",
    "fig, ax = plt.subplots(nrows = 1, ncols = len(numerical_data.columns), figsize = (30,5))\n",
    "ax = ax.ravel()\n",
    "pos = 0\n",
    "for col in numerical_data.columns:\n",
    "    sns.histplot(data = df_filtered_bioactivity, x = col, hue = \"bioactivity_class\", ax = ax[pos])\n",
    "    ax[pos].tick_params(axis = \"x\", labelsize = 15)\n",
    "    ax[pos].tick_params(axis = \"y\", labelsize = 15)\n",
    "    ax[pos].set_xlabel(ax[pos].get_xlabel(), fontsize = 18)\n",
    "    ax[pos].set_ylabel(ax[pos].get_ylabel(), fontsize = 18)\n",
    "\n",
    "    pos+=1\n",
    "    \n",
    "plt.tight_layout()\n",
    "plt.show()"
   ]
  },
  {
   "cell_type": "markdown",
   "id": "3e4c8b2c-cf2d-47db-8907-51911c499575",
   "metadata": {},
   "source": [
    "**Insights**\n",
    "\n",
    "* Most of the compounds are of active nature.\n",
    "* The molecular weight of most of the compounds lie below 5000.\n",
    "* There is a clear distinction between the pEC50 values of Active and Inactive Compounds. pEC50 of active compounds is 6 and greater.\n",
    "* Data is skewed"
   ]
  },
  {
   "cell_type": "code",
   "execution_count": 138,
   "id": "d85de4d4-d665-4c59-829e-d6f1be38089c",
   "metadata": {},
   "outputs": [
    {
     "data": {
      "image/png": "[encoded data removed]",
      "text/plain": [
       "<Figure size 800x300 with 1 Axes>"
      ]
     },
     "metadata": {},
     "output_type": "display_data"
    }
   ],
   "source": [
    "plt.figure(figsize = (8,3))\n",
    "sns.scatterplot(x = df_filtered_bioactivity[\"Mol_Wt\"], \n",
    "                y = df_filtered_bioactivity[\"LogP\"], \n",
    "                size = df_filtered_bioactivity[\"pEC50\"], \n",
    "                hue = df_filtered_bioactivity[\"bioactivity_class\"],alpha = 0.25)\n",
    "xticks = np.arange(df_filtered_bioactivity[\"Mol_Wt\"].min(), df_filtered_bioactivity[\"Mol_Wt\"].max(), step = 300)\n",
    "plt.xticks(ticks = xticks, rotation =90, fontsize = 8)\n",
    "plt.title(\"Size of pEC50 and LogP vs MolWt based on Bioactivty Class\", fontsize = 10)\n",
    "plt.legend(bbox_to_anchor = (1.05, 1))\n",
    "plt.tight_layout()\n",
    "plt.show()"
   ]
  },
  {
   "cell_type": "markdown",
   "id": "b5e66dcb-db33-4c96-a6af-ddb7ca7c1ccf",
   "metadata": {},
   "source": [
    "**Insights**\n",
    "* There is no specific distinction b/w Active and Inactive Based on Molecular Weight"
   ]
  },
  {
   "cell_type": "markdown",
   "id": "a5a01514-be3e-4dd2-8c58-2bd8a79d07ec",
   "metadata": {},
   "source": [
    "# Statistical Test"
   ]
  },
  {
   "cell_type": "markdown",
   "id": "6d81bce6-7b4a-4381-8ab4-915257fc22e1",
   "metadata": {},
   "source": [
    "## Mann - Whitney U Test"
   ]
  },
  {
   "cell_type": "markdown",
   "id": "8a7ccd8d-6920-4f53-a536-bdddfcef1491",
   "metadata": {},
   "source": [
    "* **Purpose**: Used to assess the difference between two independent groups.\n",
    "* **Fields of Application**: Economics, biological sciences, epidemiology.\n",
    "* **Suitable Conditions**:\n",
    "    - Groups have low numbers of individuals (usually less than 30).\n",
    "    - Data are continuous.\n",
    "    - Data are not normally distributed.\n",
    "\n",
    "\n",
    "**Assumptions of Mann-Whitney U Test**\n",
    "\n",
    "**Type of Variable**:\n",
    "* The variable must be continuous (e.g., age, weight, height, heart rate).\n",
    "\n",
    "**Data Distribution**:\n",
    "* Assumes a non-Normal (skewed) distribution.\n",
    "* If data are normally distributed, use the unpaired Student’s t-test instead.\n",
    "\n",
    "**Shape of Distribution**:\n",
    "* Data in both groups should have a similar shape.\n",
    "\n",
    "**Sample Independence**:\n",
    "* Groups should be two randomly selected independent samples with no relationship.\n",
    "* If samples are paired, use a paired samples t-test instead.\n",
    "  \n",
    "**Sample Size**:\n",
    "* Requires more than 5 observations in each group for a valid test.\n",
    "\n",
    "Source: https://www.technologynetworks.com/informatics/articles/mann-whitney-u-test-assumptions-and-example-363425"
   ]
  },
  {
   "cell_type": "code",
   "execution_count": 141,
   "id": "dbac57f8-5257-44eb-8979-b52c25ebc88c",
   "metadata": {},
   "outputs": [],
   "source": [
    "def MannWhitneyUTest(dataframe, descriptor, alpha:float = 0.05):\n",
    "    from numpy.random import seed\n",
    "    from numpy.random import randn\n",
    "    from scipy.stats import mannwhitneyu\n",
    "\n",
    "    ##Random Number Seed\n",
    "    seed(42)\n",
    "    ## Select the descriptor value for active bioactivity\n",
    "    selected = dataframe[[descriptor, \"bioactivity_class\"]]\n",
    "    active = selected[selected[\"bioactivity_class\"] == \"Active\"][descriptor]\n",
    "\n",
    "    ## Select the descriptor for inactive bioactivity\n",
    "    inactive = selected[selected[\"bioactivity_class\"] == \"Inactive\"][descriptor]\n",
    "\n",
    "    ## Compare Sample: Are the two populations equal\n",
    "    ##H0: Yes, they are equal\n",
    "    ##H1: No, they are not equal\n",
    "    \n",
    "    stat, p = mannwhitneyu(active, inactive)\n",
    "    print(\"Statistics = %.3f, p = %.3f\" %(stat, p))\n",
    "\n",
    "    ## Interpret\n",
    "    if p>alpha:\n",
    "        interpretation = \"Same Distribution(Accept H0)\"\n",
    "    else:\n",
    "        interpretation = \"Different Distribution (Accept H1)\"\n",
    "\n",
    "\n",
    "    results = pd.DataFrame({\n",
    "        \"Descriptor\": descriptor,\n",
    "        \"Statistics\": stat,\n",
    "        \"p-val\": p,\n",
    "        \"alpha\":alpha,\n",
    "        \"Interpretation\": interpretation}, index = [0])\n",
    "    results.to_csv(f\"mannwhitney_{descriptor}_acetylcholinesterase.csv\")\n",
    "    return results"
   ]
  },
  {
   "cell_type": "code",
   "execution_count": 142,
   "id": "ec1184f9-4003-40c8-b367-af78c73b3214",
   "metadata": {},
   "outputs": [
    {
     "name": "stdout",
     "output_type": "stream",
     "text": [
      "Statistics = 1592816.500, p = 0.000\n",
      "  Descriptor  Statistics         p-val  alpha                      Interpretation\n",
      "0     Mol_Wt   1592816.5  4.286915e-25   0.05  Different Distribution (Accept H1) \n",
      "\n",
      "--------------------------------------------------\n",
      "Statistics = 1408073.000, p = 0.000\n",
      "  Descriptor  Statistics     p-val  alpha                      Interpretation\n",
      "0       LogP   1408073.0  0.000479   0.05  Different Distribution (Accept H1) \n",
      "\n",
      "--------------------------------------------------\n",
      "Statistics = 1365898.000, p = 0.052\n",
      "        Descriptor  Statistics     p-val  alpha                Interpretation\n",
      "0  H-Bond Acceptor   1365898.0  0.052172   0.05  Same Distribution(Accept H0) \n",
      "\n",
      "--------------------------------------------------\n",
      "Statistics = 1385966.500, p = 0.006\n",
      "     Descriptor  Statistics     p-val  alpha                      Interpretation\n",
      "0  H-Bond Donor   1385966.5  0.006367   0.05  Different Distribution (Accept H1) \n",
      "\n",
      "--------------------------------------------------\n",
      "Statistics = 2627936.000, p = 0.000\n",
      "  Descriptor  Statistics  p-val  alpha                      Interpretation\n",
      "0      pEC50   2627936.0    0.0   0.05  Different Distribution (Accept H1) \n",
      "\n",
      "--------------------------------------------------\n"
     ]
    }
   ],
   "source": [
    "for col in df_filtered_bioactivity.select_dtypes(\"number\"):\n",
    "    result = MannWhitneyUTest(df_filtered_bioactivity, col)\n",
    "    print(result.to_string(), \"\\n\")\n",
    "    print(\"-\"*50)\n",
    "    \n",
    "    "
   ]
  },
  {
   "cell_type": "markdown",
   "id": "e3b8f7b5-08dc-4a94-a1d9-901aaa44c347",
   "metadata": {},
   "source": [
    "**Insights:**\n",
    "\n",
    "* There is a significant difference between active and inactive based on Molecular Weight, LogP, H-Bond Donor and pEC50 parameters.\n",
    "* H-Bond Acceptor parameter is same for both active and inactive cases."
   ]
  },
  {
   "cell_type": "code",
   "execution_count": null,
   "id": "e500a210-47bc-48a5-8b3c-24be76bef195",
   "metadata": {},
   "outputs": [],
   "source": []
  }
 ],
 "metadata": {
  "kernelspec": {
   "display_name": "Python 3 (ipykernel)",
   "language": "python",
   "name": "python3"
  },
  "language_info": {
   "codemirror_mode": {
    "name": "ipython",
    "version": 3
   },
   "file_extension": ".py",
   "mimetype": "text/x-python",
   "name": "python",
   "nbconvert_exporter": "python",
   "pygments_lexer": "ipython3",
   "version": "3.10.14"
  }
 },
 "nbformat": 4,
 "nbformat_minor": 5
}
