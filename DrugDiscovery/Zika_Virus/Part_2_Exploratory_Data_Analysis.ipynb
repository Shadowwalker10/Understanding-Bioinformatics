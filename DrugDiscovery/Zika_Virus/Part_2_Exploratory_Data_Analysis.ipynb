{
 "cells": [
  {
   "cell_type": "markdown",
   "id": "c53743d0-940d-4293-b35d-8c9e1b17cb6b",
   "metadata": {},
   "source": [
    "# Import Required Libraries"
   ]
  },
  {
   "cell_type": "code",
   "execution_count": null,
   "id": "c6ac9344-17aa-4717-a79c-3025523d92ff",
   "metadata": {},
   "outputs": [],
   "source": []
  },
  {
   "cell_type": "code",
   "execution_count": 61,
   "id": "5836cbfc-a92c-4f00-8b1e-6fff1743f737",
   "metadata": {},
   "outputs": [],
   "source": [
    "import pandas as pd\n",
    "import matplotlib.pyplot as plt\n",
    "import seaborn as sns\n",
    "import numpy as np"
   ]
  },
  {
   "cell_type": "markdown",
   "id": "74baf441-44ea-480a-a773-544d3d8150d5",
   "metadata": {},
   "source": [
    "# Import dataset"
   ]
  },
  {
   "cell_type": "code",
   "execution_count": 62,
   "id": "cb653c0a-cbca-44ef-b1d1-37f570e4bfaa",
   "metadata": {},
   "outputs": [
    {
     "data": {
      "text/html": [
       "<div>\n",
       "<style scoped>\n",
       "    .dataframe tbody tr th:only-of-type {\n",
       "        vertical-align: middle;\n",
       "    }\n",
       "\n",
       "    .dataframe tbody tr th {\n",
       "        vertical-align: top;\n",
       "    }\n",
       "\n",
       "    .dataframe thead th {\n",
       "        text-align: right;\n",
       "    }\n",
       "</style>\n",
       "<table border=\"1\" class=\"dataframe\">\n",
       "  <thead>\n",
       "    <tr style=\"text-align: right;\">\n",
       "      <th></th>\n",
       "      <th>molecule_chembl_id</th>\n",
       "      <th>canonical_smiles</th>\n",
       "      <th>standard_value</th>\n",
       "      <th>bioactivity_class</th>\n",
       "    </tr>\n",
       "  </thead>\n",
       "  <tbody>\n",
       "    <tr>\n",
       "      <th>0</th>\n",
       "      <td>CHEMBL76</td>\n",
       "      <td>CCN(CC)CCCC(C)Nc1ccnc2cc(Cl)ccc12</td>\n",
       "      <td>12000.0</td>\n",
       "      <td>Inactive</td>\n",
       "    </tr>\n",
       "    <tr>\n",
       "      <th>1</th>\n",
       "      <td>CHEMBL4087097</td>\n",
       "      <td>FC(F)(F)c1cc(NCCCl)c2cccc(C(F)(F)F)c2n1</td>\n",
       "      <td>1400.0</td>\n",
       "      <td>Intermediate</td>\n",
       "    </tr>\n",
       "    <tr>\n",
       "      <th>2</th>\n",
       "      <td>CHEMBL4065673</td>\n",
       "      <td>OCCNc1cc(C(F)(F)F)nc2c(C(F)(F)F)cccc12</td>\n",
       "      <td>800.0</td>\n",
       "      <td>Active</td>\n",
       "    </tr>\n",
       "    <tr>\n",
       "      <th>3</th>\n",
       "      <td>CHEMBL4102529</td>\n",
       "      <td>NCCCNc1cc(C(F)(F)F)nc2c(C(F)(F)F)cccc12</td>\n",
       "      <td>2000.0</td>\n",
       "      <td>Intermediate</td>\n",
       "    </tr>\n",
       "    <tr>\n",
       "      <th>4</th>\n",
       "      <td>CHEMBL4084581</td>\n",
       "      <td>NCCNc1cc(C(F)(F)F)nc2c(C(F)(F)F)cccc12</td>\n",
       "      <td>800.0</td>\n",
       "      <td>Active</td>\n",
       "    </tr>\n",
       "  </tbody>\n",
       "</table>\n",
       "</div>"
      ],
      "text/plain": [
       "  molecule_chembl_id                         canonical_smiles  standard_value  \\\n",
       "0           CHEMBL76        CCN(CC)CCCC(C)Nc1ccnc2cc(Cl)ccc12         12000.0   \n",
       "1      CHEMBL4087097  FC(F)(F)c1cc(NCCCl)c2cccc(C(F)(F)F)c2n1          1400.0   \n",
       "2      CHEMBL4065673   OCCNc1cc(C(F)(F)F)nc2c(C(F)(F)F)cccc12           800.0   \n",
       "3      CHEMBL4102529  NCCCNc1cc(C(F)(F)F)nc2c(C(F)(F)F)cccc12          2000.0   \n",
       "4      CHEMBL4084581   NCCNc1cc(C(F)(F)F)nc2c(C(F)(F)F)cccc12           800.0   \n",
       "\n",
       "  bioactivity_class  \n",
       "0          Inactive  \n",
       "1      Intermediate  \n",
       "2            Active  \n",
       "3      Intermediate  \n",
       "4            Active  "
      ]
     },
     "execution_count": 62,
     "metadata": {},
     "output_type": "execute_result"
    }
   ],
   "source": [
    "df = pd.read_csv(\"bioactivity_preprocessed_data.csv\")\n",
    "df.head()"
   ]
  },
  {
   "cell_type": "markdown",
   "id": "5959d48e-6e02-4425-9124-e4e97702fb8f",
   "metadata": {},
   "source": [
    "# Calculate Lipinski's Descriptors\n",
    "\n",
    "The Lipinski rule of five, also known as Pfizer's rule of five or simply the rule of five (RO5), is a rule of thumb used in drug discovery to evaluate druglikeness or determine if a chemical compound with a certain pharmacological or biological activity has chemical properties and physical properties that would likely make it an orally active drug in humans.\n",
    "\n",
    "The rule was formulated by Christopher A. Lipinski in 1997, based on the observation that most orally administered drugs are relatively small and moderately lipophilic molecules. Lipinski proposed that poor absorption or permeation is more likely when there are:\n",
    "\n",
    "* More than 5 hydrogen bond donors (the total number of nitrogen–hydrogen and oxygen–hydrogen bonds)\n",
    "* More than 10 hydrogen bond acceptors (all nitrogen or oxygen atoms)\n",
    "* A molecular mass greater than 500 daltons\n",
    "* A calculated octanol-water partition coefficient (Clog P) that does exceed 5\n",
    "\n",
    "So, a drug must have the following properties:\n",
    "\n",
    "* Hydrogen Bond Donors < 5\n",
    "* Hydrogen Bond Acceptors < 10\n",
    "* Molecular Mass < 500 daltons\n",
    "* Calculated Octanol-water partition Coefficient (Clog P) < 5"
   ]
  },
  {
   "cell_type": "markdown",
   "id": "a14e9baf-c401-4f3e-8eb1-c4fb0f98ae58",
   "metadata": {},
   "source": [
    "## Installing Libraries Required and Calculating Lipinski's Descriptors"
   ]
  },
  {
   "cell_type": "code",
   "execution_count": 64,
   "id": "dd1ae1d9-987d-4723-a41a-e22453bab442",
   "metadata": {},
   "outputs": [],
   "source": [
    "## Installing rdkit\n",
    "# !pip install rdkit-pypi"
   ]
  },
  {
   "cell_type": "code",
   "execution_count": 65,
   "id": "08892291-f213-4c70-b1a1-be64986ff852",
   "metadata": {},
   "outputs": [],
   "source": [
    "from rdkit import Chem\n",
    "from rdkit.Chem import Descriptors, Lipinski"
   ]
  },
  {
   "cell_type": "code",
   "execution_count": 66,
   "id": "cd78e59d-8e60-4117-ab0d-c5b3ef00ff3c",
   "metadata": {},
   "outputs": [],
   "source": [
    "## Define a Function to extract properties Using Cannonical Smiles\n",
    "##LogP is the solubility of the molecules\n",
    "def lipinski(smiles):\n",
    "    moldata = []\n",
    "    for smile in smiles:\n",
    "        mol = Chem.MolFromSmiles(smile)\n",
    "        moldata.append(mol)\n",
    "\n",
    "    desc_molwt = [Descriptors.MolWt(mol) for mol in moldata]\n",
    "    desc_logP = [Descriptors.MolLogP(mol) for mol in moldata]\n",
    "    desc_Hbaccept = [Lipinski.NumHAcceptors(mol) for mol in moldata]\n",
    "    desc_Hbdonor = [Lipinski.NumHDonors(mol) for mol in moldata]\n",
    "\n",
    "    data = {\n",
    "        'MolWt': desc_molwt,\n",
    "        'LogP': desc_logP,\n",
    "        'NumHDonors': desc_Hbdonor,\n",
    "        'NumHAcceptors': desc_Hbaccept\n",
    "    }\n",
    "\n",
    "    return pd.DataFrame(data)"
   ]
  },
  {
   "cell_type": "code",
   "execution_count": 67,
   "id": "c3fddd12-14f4-4a67-9ffc-da4d3a2c63da",
   "metadata": {},
   "outputs": [
    {
     "data": {
      "text/html": [
       "<div>\n",
       "<style scoped>\n",
       "    .dataframe tbody tr th:only-of-type {\n",
       "        vertical-align: middle;\n",
       "    }\n",
       "\n",
       "    .dataframe tbody tr th {\n",
       "        vertical-align: top;\n",
       "    }\n",
       "\n",
       "    .dataframe thead th {\n",
       "        text-align: right;\n",
       "    }\n",
       "</style>\n",
       "<table border=\"1\" class=\"dataframe\">\n",
       "  <thead>\n",
       "    <tr style=\"text-align: right;\">\n",
       "      <th></th>\n",
       "      <th>MolWt</th>\n",
       "      <th>LogP</th>\n",
       "      <th>NumHDonors</th>\n",
       "      <th>NumHAcceptors</th>\n",
       "    </tr>\n",
       "  </thead>\n",
       "  <tbody>\n",
       "    <tr>\n",
       "      <th>0</th>\n",
       "      <td>319.880</td>\n",
       "      <td>4.8106</td>\n",
       "      <td>1</td>\n",
       "      <td>3</td>\n",
       "    </tr>\n",
       "    <tr>\n",
       "      <th>1</th>\n",
       "      <td>342.670</td>\n",
       "      <td>4.9231</td>\n",
       "      <td>1</td>\n",
       "      <td>2</td>\n",
       "    </tr>\n",
       "    <tr>\n",
       "      <th>2</th>\n",
       "      <td>324.224</td>\n",
       "      <td>3.6766</td>\n",
       "      <td>2</td>\n",
       "      <td>3</td>\n",
       "    </tr>\n",
       "    <tr>\n",
       "      <th>3</th>\n",
       "      <td>337.267</td>\n",
       "      <td>4.0331</td>\n",
       "      <td>2</td>\n",
       "      <td>3</td>\n",
       "    </tr>\n",
       "    <tr>\n",
       "      <th>4</th>\n",
       "      <td>323.240</td>\n",
       "      <td>3.6430</td>\n",
       "      <td>2</td>\n",
       "      <td>3</td>\n",
       "    </tr>\n",
       "  </tbody>\n",
       "</table>\n",
       "</div>"
      ],
      "text/plain": [
       "     MolWt    LogP  NumHDonors  NumHAcceptors\n",
       "0  319.880  4.8106           1              3\n",
       "1  342.670  4.9231           1              2\n",
       "2  324.224  3.6766           2              3\n",
       "3  337.267  4.0331           2              3\n",
       "4  323.240  3.6430           2              3"
      ]
     },
     "execution_count": 67,
     "metadata": {},
     "output_type": "execute_result"
    }
   ],
   "source": [
    "df_lipinski = lipinski(df.canonical_smiles)\n",
    "df_lipinski.head()"
   ]
  },
  {
   "cell_type": "markdown",
   "id": "838510b4-5412-477c-aa36-9428d87924d2",
   "metadata": {},
   "source": [
    "# Forming New DataFrame For Further Processes"
   ]
  },
  {
   "cell_type": "markdown",
   "id": "a2fbe407-63a7-4483-a317-1bd762009c3c",
   "metadata": {},
   "source": [
    "## Merging DataFrames"
   ]
  },
  {
   "cell_type": "code",
   "execution_count": 69,
   "id": "b35ed9cb-0d26-4c44-9c5a-5f049069c622",
   "metadata": {},
   "outputs": [
    {
     "data": {
      "text/html": [
       "<div>\n",
       "<style scoped>\n",
       "    .dataframe tbody tr th:only-of-type {\n",
       "        vertical-align: middle;\n",
       "    }\n",
       "\n",
       "    .dataframe tbody tr th {\n",
       "        vertical-align: top;\n",
       "    }\n",
       "\n",
       "    .dataframe thead th {\n",
       "        text-align: right;\n",
       "    }\n",
       "</style>\n",
       "<table border=\"1\" class=\"dataframe\">\n",
       "  <thead>\n",
       "    <tr style=\"text-align: right;\">\n",
       "      <th></th>\n",
       "      <th>molecule_chembl_id</th>\n",
       "      <th>canonical_smiles</th>\n",
       "      <th>standard_value</th>\n",
       "      <th>bioactivity_class</th>\n",
       "      <th>MolWt</th>\n",
       "      <th>LogP</th>\n",
       "      <th>NumHDonors</th>\n",
       "      <th>NumHAcceptors</th>\n",
       "    </tr>\n",
       "  </thead>\n",
       "  <tbody>\n",
       "    <tr>\n",
       "      <th>0</th>\n",
       "      <td>CHEMBL76</td>\n",
       "      <td>CCN(CC)CCCC(C)Nc1ccnc2cc(Cl)ccc12</td>\n",
       "      <td>12000.0</td>\n",
       "      <td>Inactive</td>\n",
       "      <td>319.880</td>\n",
       "      <td>4.8106</td>\n",
       "      <td>1</td>\n",
       "      <td>3</td>\n",
       "    </tr>\n",
       "    <tr>\n",
       "      <th>1</th>\n",
       "      <td>CHEMBL4087097</td>\n",
       "      <td>FC(F)(F)c1cc(NCCCl)c2cccc(C(F)(F)F)c2n1</td>\n",
       "      <td>1400.0</td>\n",
       "      <td>Intermediate</td>\n",
       "      <td>342.670</td>\n",
       "      <td>4.9231</td>\n",
       "      <td>1</td>\n",
       "      <td>2</td>\n",
       "    </tr>\n",
       "    <tr>\n",
       "      <th>2</th>\n",
       "      <td>CHEMBL4065673</td>\n",
       "      <td>OCCNc1cc(C(F)(F)F)nc2c(C(F)(F)F)cccc12</td>\n",
       "      <td>800.0</td>\n",
       "      <td>Active</td>\n",
       "      <td>324.224</td>\n",
       "      <td>3.6766</td>\n",
       "      <td>2</td>\n",
       "      <td>3</td>\n",
       "    </tr>\n",
       "    <tr>\n",
       "      <th>3</th>\n",
       "      <td>CHEMBL4102529</td>\n",
       "      <td>NCCCNc1cc(C(F)(F)F)nc2c(C(F)(F)F)cccc12</td>\n",
       "      <td>2000.0</td>\n",
       "      <td>Intermediate</td>\n",
       "      <td>337.267</td>\n",
       "      <td>4.0331</td>\n",
       "      <td>2</td>\n",
       "      <td>3</td>\n",
       "    </tr>\n",
       "    <tr>\n",
       "      <th>4</th>\n",
       "      <td>CHEMBL4084581</td>\n",
       "      <td>NCCNc1cc(C(F)(F)F)nc2c(C(F)(F)F)cccc12</td>\n",
       "      <td>800.0</td>\n",
       "      <td>Active</td>\n",
       "      <td>323.240</td>\n",
       "      <td>3.6430</td>\n",
       "      <td>2</td>\n",
       "      <td>3</td>\n",
       "    </tr>\n",
       "  </tbody>\n",
       "</table>\n",
       "</div>"
      ],
      "text/plain": [
       "  molecule_chembl_id                         canonical_smiles  standard_value  \\\n",
       "0           CHEMBL76        CCN(CC)CCCC(C)Nc1ccnc2cc(Cl)ccc12         12000.0   \n",
       "1      CHEMBL4087097  FC(F)(F)c1cc(NCCCl)c2cccc(C(F)(F)F)c2n1          1400.0   \n",
       "2      CHEMBL4065673   OCCNc1cc(C(F)(F)F)nc2c(C(F)(F)F)cccc12           800.0   \n",
       "3      CHEMBL4102529  NCCCNc1cc(C(F)(F)F)nc2c(C(F)(F)F)cccc12          2000.0   \n",
       "4      CHEMBL4084581   NCCNc1cc(C(F)(F)F)nc2c(C(F)(F)F)cccc12           800.0   \n",
       "\n",
       "  bioactivity_class    MolWt    LogP  NumHDonors  NumHAcceptors  \n",
       "0          Inactive  319.880  4.8106           1              3  \n",
       "1      Intermediate  342.670  4.9231           1              2  \n",
       "2            Active  324.224  3.6766           2              3  \n",
       "3      Intermediate  337.267  4.0331           2              3  \n",
       "4            Active  323.240  3.6430           2              3  "
      ]
     },
     "execution_count": 69,
     "metadata": {},
     "output_type": "execute_result"
    }
   ],
   "source": [
    "df_merged = pd.concat([df, df_lipinski], axis = 1)\n",
    "df_merged.head()"
   ]
  },
  {
   "cell_type": "markdown",
   "id": "58028ef8-db7c-44d9-9eff-8004794a20fe",
   "metadata": {},
   "source": [
    "## Data Processing"
   ]
  },
  {
   "cell_type": "markdown",
   "id": "c41f314e-26d4-4fd0-9271-2b844fada1b1",
   "metadata": {},
   "source": [
    "### Normalize the standard value to its logarithmic value"
   ]
  },
  {
   "cell_type": "code",
   "execution_count": 70,
   "id": "501967b0-d5b1-47c5-b3cd-ab1e79943bfc",
   "metadata": {},
   "outputs": [
    {
     "data": {
      "text/html": [
       "<div>\n",
       "<style scoped>\n",
       "    .dataframe tbody tr th:only-of-type {\n",
       "        vertical-align: middle;\n",
       "    }\n",
       "\n",
       "    .dataframe tbody tr th {\n",
       "        vertical-align: top;\n",
       "    }\n",
       "\n",
       "    .dataframe thead th {\n",
       "        text-align: right;\n",
       "    }\n",
       "</style>\n",
       "<table border=\"1\" class=\"dataframe\">\n",
       "  <thead>\n",
       "    <tr style=\"text-align: right;\">\n",
       "      <th></th>\n",
       "      <th>molecule_chembl_id</th>\n",
       "      <th>canonical_smiles</th>\n",
       "      <th>bioactivity_class</th>\n",
       "      <th>MolWt</th>\n",
       "      <th>LogP</th>\n",
       "      <th>NumHDonors</th>\n",
       "      <th>NumHAcceptors</th>\n",
       "      <th>pEC50</th>\n",
       "    </tr>\n",
       "  </thead>\n",
       "  <tbody>\n",
       "    <tr>\n",
       "      <th>0</th>\n",
       "      <td>CHEMBL76</td>\n",
       "      <td>CCN(CC)CCCC(C)Nc1ccnc2cc(Cl)ccc12</td>\n",
       "      <td>Inactive</td>\n",
       "      <td>319.880</td>\n",
       "      <td>4.8106</td>\n",
       "      <td>1</td>\n",
       "      <td>3</td>\n",
       "      <td>4.920819</td>\n",
       "    </tr>\n",
       "    <tr>\n",
       "      <th>1</th>\n",
       "      <td>CHEMBL4087097</td>\n",
       "      <td>FC(F)(F)c1cc(NCCCl)c2cccc(C(F)(F)F)c2n1</td>\n",
       "      <td>Intermediate</td>\n",
       "      <td>342.670</td>\n",
       "      <td>4.9231</td>\n",
       "      <td>1</td>\n",
       "      <td>2</td>\n",
       "      <td>5.853872</td>\n",
       "    </tr>\n",
       "    <tr>\n",
       "      <th>2</th>\n",
       "      <td>CHEMBL4065673</td>\n",
       "      <td>OCCNc1cc(C(F)(F)F)nc2c(C(F)(F)F)cccc12</td>\n",
       "      <td>Active</td>\n",
       "      <td>324.224</td>\n",
       "      <td>3.6766</td>\n",
       "      <td>2</td>\n",
       "      <td>3</td>\n",
       "      <td>6.096910</td>\n",
       "    </tr>\n",
       "    <tr>\n",
       "      <th>3</th>\n",
       "      <td>CHEMBL4102529</td>\n",
       "      <td>NCCCNc1cc(C(F)(F)F)nc2c(C(F)(F)F)cccc12</td>\n",
       "      <td>Intermediate</td>\n",
       "      <td>337.267</td>\n",
       "      <td>4.0331</td>\n",
       "      <td>2</td>\n",
       "      <td>3</td>\n",
       "      <td>5.698970</td>\n",
       "    </tr>\n",
       "    <tr>\n",
       "      <th>4</th>\n",
       "      <td>CHEMBL4084581</td>\n",
       "      <td>NCCNc1cc(C(F)(F)F)nc2c(C(F)(F)F)cccc12</td>\n",
       "      <td>Active</td>\n",
       "      <td>323.240</td>\n",
       "      <td>3.6430</td>\n",
       "      <td>2</td>\n",
       "      <td>3</td>\n",
       "      <td>6.096910</td>\n",
       "    </tr>\n",
       "  </tbody>\n",
       "</table>\n",
       "</div>"
      ],
      "text/plain": [
       "  molecule_chembl_id                         canonical_smiles  \\\n",
       "0           CHEMBL76        CCN(CC)CCCC(C)Nc1ccnc2cc(Cl)ccc12   \n",
       "1      CHEMBL4087097  FC(F)(F)c1cc(NCCCl)c2cccc(C(F)(F)F)c2n1   \n",
       "2      CHEMBL4065673   OCCNc1cc(C(F)(F)F)nc2c(C(F)(F)F)cccc12   \n",
       "3      CHEMBL4102529  NCCCNc1cc(C(F)(F)F)nc2c(C(F)(F)F)cccc12   \n",
       "4      CHEMBL4084581   NCCNc1cc(C(F)(F)F)nc2c(C(F)(F)F)cccc12   \n",
       "\n",
       "  bioactivity_class    MolWt    LogP  NumHDonors  NumHAcceptors     pEC50  \n",
       "0          Inactive  319.880  4.8106           1              3  4.920819  \n",
       "1      Intermediate  342.670  4.9231           1              2  5.853872  \n",
       "2            Active  324.224  3.6766           2              3  6.096910  \n",
       "3      Intermediate  337.267  4.0331           2              3  5.698970  \n",
       "4            Active  323.240  3.6430           2              3  6.096910  "
      ]
     },
     "execution_count": 70,
     "metadata": {},
     "output_type": "execute_result"
    }
   ],
   "source": [
    "## Conversion from nano-molar to molar and apply -log10\n",
    "normalized_std = [x if x<=100000000 else 100000000 for x in df['standard_value'].values]\n",
    "std_molar = [-np.log10(x*10**-9) for x in normalized_std]\n",
    "df_final = df_merged.copy(deep = True)\n",
    "df_final[\"pEC50\"] = std_molar\n",
    "df_final.drop(\"standard_value\", axis = 1, inplace = True)\n",
    "df_final.head()"
   ]
  },
  {
   "cell_type": "markdown",
   "id": "0fd7707a-f524-4747-b7a7-ce6e99603955",
   "metadata": {},
   "source": [
    "### Remove the Intermediate Bioactivity"
   ]
  },
  {
   "cell_type": "code",
   "execution_count": 71,
   "id": "0903287b-170b-4d77-ab14-91c549cdb05c",
   "metadata": {},
   "outputs": [
    {
     "data": {
      "text/html": [
       "<div>\n",
       "<style scoped>\n",
       "    .dataframe tbody tr th:only-of-type {\n",
       "        vertical-align: middle;\n",
       "    }\n",
       "\n",
       "    .dataframe tbody tr th {\n",
       "        vertical-align: top;\n",
       "    }\n",
       "\n",
       "    .dataframe thead th {\n",
       "        text-align: right;\n",
       "    }\n",
       "</style>\n",
       "<table border=\"1\" class=\"dataframe\">\n",
       "  <thead>\n",
       "    <tr style=\"text-align: right;\">\n",
       "      <th></th>\n",
       "      <th>molecule_chembl_id</th>\n",
       "      <th>canonical_smiles</th>\n",
       "      <th>bioactivity_class</th>\n",
       "      <th>MolWt</th>\n",
       "      <th>LogP</th>\n",
       "      <th>NumHDonors</th>\n",
       "      <th>NumHAcceptors</th>\n",
       "      <th>pEC50</th>\n",
       "    </tr>\n",
       "  </thead>\n",
       "  <tbody>\n",
       "    <tr>\n",
       "      <th>0</th>\n",
       "      <td>CHEMBL76</td>\n",
       "      <td>CCN(CC)CCCC(C)Nc1ccnc2cc(Cl)ccc12</td>\n",
       "      <td>Inactive</td>\n",
       "      <td>319.880</td>\n",
       "      <td>4.8106</td>\n",
       "      <td>1</td>\n",
       "      <td>3</td>\n",
       "      <td>4.920819</td>\n",
       "    </tr>\n",
       "    <tr>\n",
       "      <th>2</th>\n",
       "      <td>CHEMBL4065673</td>\n",
       "      <td>OCCNc1cc(C(F)(F)F)nc2c(C(F)(F)F)cccc12</td>\n",
       "      <td>Active</td>\n",
       "      <td>324.224</td>\n",
       "      <td>3.6766</td>\n",
       "      <td>2</td>\n",
       "      <td>3</td>\n",
       "      <td>6.096910</td>\n",
       "    </tr>\n",
       "    <tr>\n",
       "      <th>4</th>\n",
       "      <td>CHEMBL4084581</td>\n",
       "      <td>NCCNc1cc(C(F)(F)F)nc2c(C(F)(F)F)cccc12</td>\n",
       "      <td>Active</td>\n",
       "      <td>323.240</td>\n",
       "      <td>3.6430</td>\n",
       "      <td>2</td>\n",
       "      <td>3</td>\n",
       "      <td>6.096910</td>\n",
       "    </tr>\n",
       "    <tr>\n",
       "      <th>6</th>\n",
       "      <td>CHEMBL76</td>\n",
       "      <td>CCN(CC)CCCC(C)Nc1ccnc2cc(Cl)ccc12</td>\n",
       "      <td>Inactive</td>\n",
       "      <td>319.880</td>\n",
       "      <td>4.8106</td>\n",
       "      <td>1</td>\n",
       "      <td>3</td>\n",
       "      <td>4.920819</td>\n",
       "    </tr>\n",
       "    <tr>\n",
       "      <th>8</th>\n",
       "      <td>CHEMBL4081503</td>\n",
       "      <td>O=[N+]([O-])c1ccc(C=NCCNc2ccnc3cc(Cl)ccc23)o1</td>\n",
       "      <td>Active</td>\n",
       "      <td>344.758</td>\n",
       "      <td>3.9204</td>\n",
       "      <td>1</td>\n",
       "      <td>6</td>\n",
       "      <td>6.096910</td>\n",
       "    </tr>\n",
       "  </tbody>\n",
       "</table>\n",
       "</div>"
      ],
      "text/plain": [
       "  molecule_chembl_id                               canonical_smiles  \\\n",
       "0           CHEMBL76              CCN(CC)CCCC(C)Nc1ccnc2cc(Cl)ccc12   \n",
       "2      CHEMBL4065673         OCCNc1cc(C(F)(F)F)nc2c(C(F)(F)F)cccc12   \n",
       "4      CHEMBL4084581         NCCNc1cc(C(F)(F)F)nc2c(C(F)(F)F)cccc12   \n",
       "6           CHEMBL76              CCN(CC)CCCC(C)Nc1ccnc2cc(Cl)ccc12   \n",
       "8      CHEMBL4081503  O=[N+]([O-])c1ccc(C=NCCNc2ccnc3cc(Cl)ccc23)o1   \n",
       "\n",
       "  bioactivity_class    MolWt    LogP  NumHDonors  NumHAcceptors     pEC50  \n",
       "0          Inactive  319.880  4.8106           1              3  4.920819  \n",
       "2            Active  324.224  3.6766           2              3  6.096910  \n",
       "4            Active  323.240  3.6430           2              3  6.096910  \n",
       "6          Inactive  319.880  4.8106           1              3  4.920819  \n",
       "8            Active  344.758  3.9204           1              6  6.096910  "
      ]
     },
     "execution_count": 71,
     "metadata": {},
     "output_type": "execute_result"
    }
   ],
   "source": [
    "df_filtered_bioactivity = df_final[df_final[\"bioactivity_class\"]!= \"Intermediate\"]\n",
    "df_filtered_bioactivity.head()"
   ]
  },
  {
   "cell_type": "markdown",
   "id": "3dc9801d-efc1-4f07-81b6-c6b59a86e36e",
   "metadata": {},
   "source": [
    "# Exploratory Data Analysis"
   ]
  },
  {
   "cell_type": "code",
   "execution_count": 75,
   "id": "099b6cde-035d-4372-adef-cd53450ec1be",
   "metadata": {},
   "outputs": [
    {
     "data": {
      "text/plain": [
       "889.1090000000002"
      ]
     },
     "execution_count": 75,
     "metadata": {},
     "output_type": "execute_result"
    }
   ],
   "source": [
    "df_filtered_bioactivity[\"MolWt\"].max()"
   ]
  },
  {
   "cell_type": "code",
   "execution_count": 79,
   "id": "af949c1b-514b-4065-8b4c-8e2ced4519fe",
   "metadata": {},
   "outputs": [
    {
     "data": {
      "image/png": "[encoded data removed]",
      "text/plain": [
       "<Figure size 800x300 with 1 Axes>"
      ]
     },
     "metadata": {},
     "output_type": "display_data"
    }
   ],
   "source": [
    "plt.figure(figsize = (8,3))\n",
    "sns.scatterplot(x = df_filtered_bioactivity[\"MolWt\"], \n",
    "                y = df_filtered_bioactivity[\"LogP\"], \n",
    "                size = df_filtered_bioactivity[\"pEC50\"], \n",
    "                hue = df_filtered_bioactivity[\"bioactivity_class\"],alpha = 0.25)\n",
    "xticks = np.arange(120, 900, step = 30)\n",
    "plt.xticks(ticks = xticks, rotation =90, fontsize = 8)\n",
    "plt.title(\"Size of pEC50 and LogP vs MolWt based on Bioactivty Class\", fontsize = 10)\n",
    "plt.legend(bbox_to_anchor = (1.05, 1))\n",
    "plt.tight_layout()\n",
    "plt.show()"
   ]
  },
  {
   "cell_type": "code",
   "execution_count": 80,
   "id": "fb9a1778-6d16-4882-b866-7c4571695e47",
   "metadata": {},
   "outputs": [
    {
     "data": {
      "image/png": "[encoded data removed]",
      "text/plain": [
       "<Figure size 500x200 with 1 Axes>"
      ]
     },
     "metadata": {},
     "output_type": "display_data"
    }
   ],
   "source": [
    "## Number of datapoints for each bioactivity classes\n",
    "plt.figure(figsize = (5,2))\n",
    "sns.countplot(df_filtered_bioactivity[\"bioactivity_class\"])\n",
    "plt.title(\"Total Count For Each Bioactivity Class\", fontsize = 10)\n",
    "plt.xlabel(\"Count\", fontsize = 9)\n",
    "plt.ylabel(\"Bioactivity\", fontsize = 9)\n",
    "plt.tight_layout()\n",
    "plt.show()"
   ]
  },
  {
   "cell_type": "markdown",
   "id": "4a2b9dd7-a8ea-417d-8f55-8439e83c7981",
   "metadata": {},
   "source": [
    "## Detecting Outliers"
   ]
  },
  {
   "cell_type": "code",
   "execution_count": 81,
   "id": "08d0d91a-01e4-4c0d-ad33-f4fe11e5f4b7",
   "metadata": {},
   "outputs": [
    {
     "data": {
      "image/png": "[encoded data removed]",
      "text/plain": [
       "<Figure size 2500x500 with 5 Axes>"
      ]
     },
     "metadata": {},
     "output_type": "display_data"
    }
   ],
   "source": [
    "number_data = df_filtered_bioactivity.select_dtypes(\"number\")\n",
    "nrows = 1\n",
    "ncols = len(number_data.columns)\n",
    "fig, ax = plt.subplots(nrows, ncols, figsize = (25,5))\n",
    "\n",
    "if ncols == 1:\n",
    "    ax = [ax]\n",
    "\n",
    "for i in range(nrows * ncols):\n",
    "    sns.boxplot(data = df_filtered_bioactivity, x = \"bioactivity_class\", y = number_data.columns[i], ax = ax[i])\n",
    "    ax[i].set_xlabel(\"Bioactivity Class\", fontsize = 12, color = \"b\")\n",
    "    ax[i].set_ylabel(number_data.columns[i], fontsize = 12, color = \"r\")\n",
    "\n",
    "fig.tight_layout(pad = 3.0)\n",
    "plt.show()"
   ]
  },
  {
   "cell_type": "markdown",
   "id": "9524130c-1bd5-403f-bde9-7876c039aa42",
   "metadata": {},
   "source": [
    "**There are some outliers in the Molwt, NumHDonors, NumHAcceptors and pEC50 Columns mostly for active bioactivity class**"
   ]
  },
  {
   "cell_type": "markdown",
   "id": "de4cb917-a2e4-45f8-b845-e4637fc2cbcd",
   "metadata": {},
   "source": [
    "# Statistical Test"
   ]
  },
  {
   "cell_type": "markdown",
   "id": "e3e6846a-60b3-4fdb-9ed4-72cc18e041e7",
   "metadata": {},
   "source": [
    "## Mann - Whitney U Test"
   ]
  },
  {
   "cell_type": "markdown",
   "id": "ebe2fa4b-2c01-48bd-be51-fac702f396a1",
   "metadata": {},
   "source": [
    "* **Purpose**: Used to assess the difference between two independent groups.\n",
    "* **Fields of Application**: Economics, biological sciences, epidemiology.\n",
    "* **Suitable Conditions**:\n",
    "    - Groups have low numbers of individuals (usually less than 30).\n",
    "    - Data are continuous.\n",
    "    - Data are not normally distributed.\n",
    "\n",
    "\n",
    "**Assumptions of Mann-Whitney U Test**\n",
    "\n",
    "**Type of Variable**:\n",
    "* The variable must be continuous (e.g., age, weight, height, heart rate).\n",
    "\n",
    "**Data Distribution**:\n",
    "* Assumes a non-Normal (skewed) distribution.\n",
    "* If data are normally distributed, use the unpaired Student’s t-test instead.\n",
    "\n",
    "**Shape of Distribution**:\n",
    "* Data in both groups should have a similar shape.\n",
    "\n",
    "**Sample Independence**:\n",
    "* Groups should be two randomly selected independent samples with no relationship.\n",
    "* If samples are paired, use a paired samples t-test instead.\n",
    "  \n",
    "**Sample Size**:\n",
    "* Requires more than 5 observations in each group for a valid test.\n",
    "\n",
    "Source: https://www.technologynetworks.com/informatics/articles/mann-whitney-u-test-assumptions-and-example-363425"
   ]
  },
  {
   "cell_type": "code",
   "execution_count": 1,
   "id": "4ab37e0e-ea9a-4b33-98dc-123241aad2ef",
   "metadata": {},
   "outputs": [],
   "source": [
    "def MannWhitneyUTest(dataframe, descriptor, alpha:float = 0.05):\n",
    "    from numpy.random import seed\n",
    "    from numpy.random import randn\n",
    "    from scipy.stats import mannwhitneyu\n",
    "\n",
    "    ##Random Number Seed\n",
    "    seed(42)\n",
    "    ## Select the descriptor value for active bioactivity\n",
    "    selected = dataframe[[descriptor, \"bioactivity_class\"]]\n",
    "    active = selected[selected[\"bioactivity_class\"] == \"Active\"][descriptor]\n",
    "\n",
    "    ## Select the descriptor for inactive bioactivity\n",
    "    inactive = selected[selected[\"bioactivity_class\"] == \"Inactive\"][descriptor]\n",
    "\n",
    "    ## Compare Sample: Are the two populations equal\n",
    "    ##H0: Yes, they are equal\n",
    "    ##H1: No, they are not equal\n",
    "    \n",
    "    stat, p = mannwhitneyu(active, inactive)\n",
    "    print(\"Statistics = %.3f, p = %.3f\" %(stat, p))\n",
    "\n",
    "    ## Interpret\n",
    "    if p>alpha:\n",
    "        interpretation = \"Same Distribution(Accept H0)\"\n",
    "    else:\n",
    "        interpretation = \"Different Distribution (Accept H1)\"\n",
    "\n",
    "\n",
    "    results = pd.DataFrame({\n",
    "        \"Descriptor\": descriptor,\n",
    "        \"Statistics\": stat,\n",
    "        \"p-val\": p,\n",
    "        \"alpha\":alpha,\n",
    "        \"Interpretation\": interpretation}, index = [0])\n",
    "    results.to_csv(f\"mannwhitney_{descriptor}.csv\")\n",
    "    return results"
   ]
  },
  {
   "cell_type": "code",
   "execution_count": 83,
   "id": "80813b71-509f-4163-901b-da81d5cdb86c",
   "metadata": {},
   "outputs": [
    {
     "name": "stdout",
     "output_type": "stream",
     "text": [
      "Statistics = 1501.000, p = 0.518\n",
      "  Descriptor  Statistics     p-val  alpha                Interpretation\n",
      "0      MolWt      1501.0  0.517911   0.05  Same Distribution(Accept H0) \n",
      "\n",
      "--------------------------------------------------\n",
      "Statistics = 1555.000, p = 0.330\n",
      "  Descriptor  Statistics     p-val  alpha                Interpretation\n",
      "0       LogP      1555.0  0.329861   0.05  Same Distribution(Accept H0) \n",
      "\n",
      "--------------------------------------------------\n",
      "Statistics = 1555.000, p = 0.311\n",
      "   Descriptor  Statistics     p-val  alpha                Interpretation\n",
      "0  NumHDonors      1555.0  0.310506   0.05  Same Distribution(Accept H0) \n",
      "\n",
      "--------------------------------------------------\n",
      "Statistics = 933.500, p = 0.004\n",
      "      Descriptor  Statistics    p-val  alpha                      Interpretation\n",
      "0  NumHAcceptors       933.5  0.00445   0.05  Different Distribution (Accept H1) \n",
      "\n",
      "--------------------------------------------------\n",
      "Statistics = 2788.000, p = 0.000\n",
      "  Descriptor  Statistics         p-val  alpha                      Interpretation\n",
      "0      pEC50      2788.0  2.761848e-17   0.05  Different Distribution (Accept H1) \n",
      "\n",
      "--------------------------------------------------\n"
     ]
    }
   ],
   "source": [
    "for col in df_filtered_bioactivity.select_dtypes(\"number\"):\n",
    "    result = MannWhitneyUTest(df_filtered_bioactivity, col)\n",
    "    print(result.to_string(), \"\\n\")\n",
    "    print(\"-\"*50)\n",
    "    \n",
    "    "
   ]
  },
  {
   "cell_type": "markdown",
   "id": "4e0962e9-39cd-4126-aba0-ed417c628465",
   "metadata": {},
   "source": [
    "**Insights:**\n",
    "\n",
    "* There is a significant difference between active and inactive drugs based on NumHAcceptors nad pEC50 parameters."
   ]
  },
  {
   "cell_type": "code",
   "execution_count": null,
   "id": "430c9e5a-57d4-4ea2-a670-4164a8ebe6d7",
   "metadata": {},
   "outputs": [],
   "source": []
  }
 ],
 "metadata": {
  "kernelspec": {
   "display_name": "Python 3 (ipykernel)",
   "language": "python",
   "name": "python3"
  },
  "language_info": {
   "codemirror_mode": {
    "name": "ipython",
    "version": 3
   },
   "file_extension": ".py",
   "mimetype": "text/x-python",
   "name": "python",
   "nbconvert_exporter": "python",
   "pygments_lexer": "ipython3",
   "version": "3.10.14"
  }
 },
 "nbformat": 4,
 "nbformat_minor": 5
}
